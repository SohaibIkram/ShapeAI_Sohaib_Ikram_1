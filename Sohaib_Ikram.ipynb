{
  "nbformat": 4,
  "nbformat_minor": 0,
  "metadata": {
    "colab": {
      "name": "Sohaib Ikram.ipynb",
      "provenance": [],
      "collapsed_sections": []
    },
    "kernelspec": {
      "name": "python3",
      "display_name": "Python 3"
    },
    "language_info": {
      "name": "python"
    }
  },
  "cells": [
    {
      "cell_type": "code",
      "metadata": {
        "id": "0AkDGMMld1No"
      },
      "source": [
        "## Importing Dataset\n",
        "from keras.datasets import mnist      ## Keras is framework API, mnist is data set\n",
        "\n",
        "data = mnist.load_data()              ## data is tuple"
      ],
      "execution_count": 20,
      "outputs": []
    },
    {
      "cell_type": "markdown",
      "metadata": {
        "id": "iLKkU6MQe8wg"
      },
      "source": [
        "**Define Training and Testing Data**"
      ]
    },
    {
      "cell_type": "code",
      "metadata": {
        "id": "uRc7rCsseGBD"
      },
      "source": [
        "(X_train, y_train), (X_test, y_test) = mnist.load_data()    ## Using multiple assignment"
      ],
      "execution_count": 21,
      "outputs": []
    },
    {
      "cell_type": "code",
      "metadata": {
        "colab": {
          "base_uri": "https://localhost:8080/"
        },
        "id": "HcdG-x4xe6kd",
        "outputId": "ff4c6990-c977-4491-e0f0-e470c7740f91"
      },
      "source": [
        "# Shape of the Training Data\n",
        "X_train[0].shape      # 28 by 28 pixels"
      ],
      "execution_count": 22,
      "outputs": [
        {
          "output_type": "execute_result",
          "data": {
            "text/plain": [
              "(28, 28)"
            ]
          },
          "metadata": {
            "tags": []
          },
          "execution_count": 22
        }
      ]
    },
    {
      "cell_type": "code",
      "metadata": {
        "id": "t1wHn4RihC2B"
      },
      "source": [
        "# Reshape the Training Data (from 2D array to 1D array)\n",
        "X_train = X_train.reshape((X_train.shape[0], 28*28)).astype('float32')\n",
        "X_test = X_test.reshape((X_test.shape[0], 28*28)).astype('float32')"
      ],
      "execution_count": 23,
      "outputs": []
    },
    {
      "cell_type": "code",
      "metadata": {
        "id": "lKG9gxvRUiZQ"
      },
      "source": [
        "# Normalizing values from 0-255 to 0-1\n",
        "X_train = X_train/255\n",
        "X_test = X_test/255"
      ],
      "execution_count": 24,
      "outputs": []
    },
    {
      "cell_type": "code",
      "metadata": {
        "id": "3D1gOE8IUtZ7"
      },
      "source": [
        "from keras.utils import np_utils\n",
        "\n",
        "y_train = np_utils.to_categorical(y_train)\n",
        "y_test = np_utils.to_categorical(y_test)\n",
        "num_classes = y_test.shape[1]"
      ],
      "execution_count": 25,
      "outputs": []
    },
    {
      "cell_type": "code",
      "metadata": {
        "id": "J_AtAiZzWAE4"
      },
      "source": [
        "from keras.models import Sequential\n",
        "from keras.layers import Dense"
      ],
      "execution_count": 26,
      "outputs": []
    },
    {
      "cell_type": "code",
      "metadata": {
        "id": "9E42wE1jewf-"
      },
      "source": [
        "# Define Model\n",
        "model = Sequential()\n",
        "\n",
        "# Add First Hidden Layer\n",
        "model.add(Dense(32, input_dim = 28*28, activation = 'relu'))\n",
        "\n",
        "# Add Second Hidden Layer\n",
        "model.add(Dense(64, activation = 'relu'))\n",
        "\n",
        "# Add output layer having 10 neurons (since there are 10 classes/categories)\n",
        "model.add(Dense(10, activation = 'softmax'))"
      ],
      "execution_count": 27,
      "outputs": []
    },
    {
      "cell_type": "code",
      "metadata": {
        "id": "B_j5p0yhonCQ"
      },
      "source": [
        "# Compile Model\n",
        "model.compile(loss = 'categorical_crossentropy', optimizer = 'adam', metrics = ['accuracy'])"
      ],
      "execution_count": 28,
      "outputs": []
    },
    {
      "cell_type": "code",
      "metadata": {
        "colab": {
          "base_uri": "https://localhost:8080/"
        },
        "id": "MBq2__uso0IV",
        "outputId": "96f87fd0-3762-4269-de01-f9f85ed5648f"
      },
      "source": [
        "# Print Model summary\n",
        "model.summary()"
      ],
      "execution_count": 29,
      "outputs": [
        {
          "output_type": "stream",
          "text": [
            "Model: \"sequential_2\"\n",
            "_________________________________________________________________\n",
            "Layer (type)                 Output Shape              Param #   \n",
            "=================================================================\n",
            "dense_6 (Dense)              (None, 32)                25120     \n",
            "_________________________________________________________________\n",
            "dense_7 (Dense)              (None, 64)                2112      \n",
            "_________________________________________________________________\n",
            "dense_8 (Dense)              (None, 10)                650       \n",
            "=================================================================\n",
            "Total params: 27,882\n",
            "Trainable params: 27,882\n",
            "Non-trainable params: 0\n",
            "_________________________________________________________________\n"
          ],
          "name": "stdout"
        }
      ]
    },
    {
      "cell_type": "code",
      "metadata": {
        "colab": {
          "base_uri": "https://localhost:8080/"
        },
        "id": "YbNu4F48pEJJ",
        "outputId": "ec554c23-b6c2-4974-f932-8d4245b8d9e0"
      },
      "source": [
        "# Train Model\n",
        "model.fit(X_train, y_train, epochs = 10, batch_size = 100)"
      ],
      "execution_count": 30,
      "outputs": [
        {
          "output_type": "stream",
          "text": [
            "Epoch 1/10\n",
            "600/600 [==============================] - 2s 2ms/step - loss: 0.7604 - accuracy: 0.7869\n",
            "Epoch 2/10\n",
            "600/600 [==============================] - 1s 2ms/step - loss: 0.2290 - accuracy: 0.9332\n",
            "Epoch 3/10\n",
            "600/600 [==============================] - 1s 2ms/step - loss: 0.1736 - accuracy: 0.9500\n",
            "Epoch 4/10\n",
            "600/600 [==============================] - 1s 2ms/step - loss: 0.1392 - accuracy: 0.9591\n",
            "Epoch 5/10\n",
            "600/600 [==============================] - 1s 2ms/step - loss: 0.1175 - accuracy: 0.9650\n",
            "Epoch 6/10\n",
            "600/600 [==============================] - 1s 2ms/step - loss: 0.1015 - accuracy: 0.9699\n",
            "Epoch 7/10\n",
            "600/600 [==============================] - 1s 2ms/step - loss: 0.0899 - accuracy: 0.9733\n",
            "Epoch 8/10\n",
            "600/600 [==============================] - 1s 2ms/step - loss: 0.0782 - accuracy: 0.9756\n",
            "Epoch 9/10\n",
            "600/600 [==============================] - 1s 2ms/step - loss: 0.0704 - accuracy: 0.9789\n",
            "Epoch 10/10\n",
            "600/600 [==============================] - 1s 2ms/step - loss: 0.0656 - accuracy: 0.9800\n"
          ],
          "name": "stdout"
        },
        {
          "output_type": "execute_result",
          "data": {
            "text/plain": [
              "<tensorflow.python.keras.callbacks.History at 0x7f86c875a310>"
            ]
          },
          "metadata": {
            "tags": []
          },
          "execution_count": 30
        }
      ]
    },
    {
      "cell_type": "markdown",
      "metadata": {
        "id": "_MK_8AdTptXY"
      },
      "source": [
        "**Check Model Performanece**"
      ]
    },
    {
      "cell_type": "code",
      "metadata": {
        "colab": {
          "base_uri": "https://localhost:8080/"
        },
        "id": "rhmD0yHspPez",
        "outputId": "749d214a-1834-440b-8f02-606c1010ad26"
      },
      "source": [
        "scores = model.evaluate(X_test, y_test)\n",
        "print(scores)"
      ],
      "execution_count": 31,
      "outputs": [
        {
          "output_type": "stream",
          "text": [
            "313/313 [==============================] - 0s 1ms/step - loss: 0.1073 - accuracy: 0.9691\n",
            "[0.10731364786624908, 0.9690999984741211]\n"
          ],
          "name": "stdout"
        }
      ]
    }
  ]
}